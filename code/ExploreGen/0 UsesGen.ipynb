{
  "cells": [
    {
      "cell_type": "markdown",
      "metadata": {
        "id": "RjZFxScHDfns"
      },
      "source": [
        "## Setup\n",
        "#### Load the API key and relevant Python libaries."
      ]
    },
    {
      "cell_type": "code",
      "execution_count": 70,
      "metadata": {
        "colab": {
          "base_uri": "https://localhost:8080/",
          "height": 73
        },
        "id": "G-1BUFRGDxiz",
        "outputId": "47a5228f-2635-4e05-97fc-3f1a24887cf9"
      },
      "outputs": [],
      "source": [
        "from collections import defaultdict\n",
        "import json\n",
        "import numpy as np\n",
        "import pandas as pd\n",
        "import os\n",
        "\n",
        "import io\n",
        "from dotenv import dotenv_values\n",
        "import openai\n",
        "import os\n",
        "from copy import deepcopy\n",
        "import time\n",
        "import ast\n",
        "import re\n",
        "import pprint\n",
        "from openai import OpenAI"
      ]
    },
    {
      "cell_type": "markdown",
      "metadata": {},
      "source": [
        "# LLM KEYS"
      ]
    },
    {
      "cell_type": "code",
      "execution_count": 71,
      "metadata": {
        "id": "JVmSFzG0DyVs"
      },
      "outputs": [],
      "source": [
        "# Get the first key from the uploaded dictionary\n",
        "env_file_key = \"../../auixiliary/env_GENERAL\"\n",
        "\n",
        "# Open the file and read its content\n",
        "with open(env_file_key, 'r', encoding='utf-8') as file:\n",
        "    env_content = file.read()\n",
        "\n",
        "# Load the content into a variable\n",
        "env_variables = dotenv_values(stream=io.StringIO(env_content))\n",
        "\n",
        "api_key = env_variables['OPENAI_API_KEY']\n",
        "# openai.api_key = api_key\n",
        "\n",
        "client = OpenAI(\n",
        "    # This is the default and can be omitted\n",
        "    api_key=api_key,\n",
        ")"
      ]
    },
    {
      "cell_type": "markdown",
      "metadata": {},
      "source": [
        "# Functions"
      ]
    },
    {
      "cell_type": "code",
      "execution_count": 102,
      "metadata": {},
      "outputs": [],
      "source": [
        "def parse_response(json_block):\n",
        "    lines = json_block.split('\\n')\n",
        "    json_content = '\\n'.join(lines[1:-1])\n",
        "    return ast.literal_eval(json_content)"
      ]
    },
    {
      "cell_type": "markdown",
      "metadata": {
        "id": "iF4PFPYQD4TM"
      },
      "source": [
        "# Models"
      ]
    },
    {
      "cell_type": "code",
      "execution_count": 72,
      "metadata": {
        "id": "EIBUdiABD8-E"
      },
      "outputs": [],
      "source": [
        "def chat_gpt(prompt, temperature=0.1):\n",
        "    response = client.chat.completions.create(\n",
        "        model=\"gpt-4o\",\n",
        "        messages=prompt,\n",
        "        temperature=temperature\n",
        "    )\n",
        "    return response.choices[0].message.content.strip()"
      ]
    },
    {
      "cell_type": "markdown",
      "metadata": {
        "id": "byuDr6zl8n9o"
      },
      "source": [
        "# PROMPT"
      ]
    },
    {
      "cell_type": "code",
      "execution_count": 92,
      "metadata": {},
      "outputs": [],
      "source": [
        "MESSAGES = [\n",
        "    {\n",
        "        'role': 'system',\n",
        "        'content': \"\"\"\n",
        "        As a Senior Facial Recognition and Analysis (FRA) Technology Specialist, you specialize in the latest developments in FRA technology. In this pivotal role, you are entrusted with reviewing and cataloguing the diverse applications and use cases of FRA technology across multiple domains.\n",
        "        \"\"\"\n",
        "    },\n",
        "    {\n",
        "        'role': 'user',\n",
        "        'content': \"\"\"\n",
        "        Create a comprehensive and self-explanatory list, in JSON format, detailing the various uses of Earth Observation technology. Each dictionary in the created list describes a particular use case or application of facial recognition technology. Provide three uses for each of the {} domains listed below. The uses must contain specific details about how the technology is used, by using action verbs that clearly describe the actions, activities, or processes of the uses. The level of specificity should be consistent across all uses. For each of these uses, you must output the following 6 elements each in less than 7 words:\n",
        "        (1) Use: An element of a series of numbered uses, starting with 1. Each use should be listed consecutively.\n",
        "        (2) Domain: The domain that represents the area or sector the AI system is intended to be used in.\n",
        "        (3) Purpose: The purpose or objective that is intended to be accomplished by using an AI system.\n",
        "        (4) Capability: The capability of the AI system that enables the realization of its purpose and reflects the technological capability.\n",
        "        (5) AI user: The entity or individual in charge of deploying and managing the AI system, including individuals, organizations, corporations, public authorities, and agencies responsible for its operation and management.\n",
        "        (6) AI subject: The individual directly affected by the use of the AI system, experiencing its effects and consequences. They interact with or are impacted by the AI system's processes, decisions, or outcomes.\n",
        "        Ensure that each concept is specific and easy to understand for non-experts. Avoid duplicate purposes or objectives and use clear and precise language to describe the uses' concepts.\n",
        "\n",
        "        Domains to be included are the following:\n",
        "        \"{}\"\n",
        "\n",
        "        For some domains, e.g., Human-Computer Interaction, Well-being, and Social Media, it might be more challenging to identify Earth Observation uses and you might think of wearable sensors or cameras on computer screens; but do NOT. Instead, review your uses and double check that the sensors you are outputting are indeed Earth Observation sensors. Try to be creative with Earth Observation uses even in these less obvious domains of its application. For example, for Well-being, you can think of suggesting parks for health-promoting activities to the user, and for Human-Computer Interaction, you can think of applications bringing satellite data closer to the public.\n",
        "        Double-check that you are outputting realistic, i.e., plausible, meaningful, and useful uses. It is OK to output upcoming, i.e., uses that are not yet widespread but could be in research, development, or talked about in expert circles. However, try to make sure that it also makes sense to use satellite or aerial data for the use you are describing; and that it is not much more straightforward to use some other sensors. If it is much easier to achieve the same purpose with some other already existing sensors (e.g., phone cameras or wearable devices), then think of another use. \n",
        "        \n",
        "        For the \"Capability\", write it by combining action verbs in gerund form (i.e., ending with \"ing\"), inferences and data, entity or metric.\n",
        "                (1) Action verbs clearly describe the actions, activities, or processes taken by the AI system, e.g., identify. Choose the most suitable action verb from the following list. If none can be assigned, propose a new verb, and mark it with an asterisk.\n",
        "                    (A) Estimating (e.g., Rating, Grading, Measuring, Assessing)\n",
        "                    (B) Forecasting (e.g., Predicting, Guessing, Speculating)\n",
        "                    (C) Comparing (e.g., Ranking, Ordering, Finding Best, Finding Cheapest, Recommending)\n",
        "                    (D) Detecting (e.g., Monitoring, Sensing, Noticing, Classifying, Discriminating)\n",
        "                    (E) Identifying (e.g., Recognizing, Discerning, Finding, Classifying, Perceiving)\n",
        "                    (F) Discovering (e.g., Extracting, Noticing, Organizing, Clustering, Grouping, Connecting, Revealing)\n",
        "                    (G) Generating (e.g., Making, Composing, Constructing, Creating, Authoring)\n",
        "                    (H) Acting (e.g., Doing, Executing, Playing, Going, Learning, Operating)\n",
        "                (2) Inference clearly describes the output or conclusion drawn by the AI system based on the data it processes, e.g., crop yield, floods, trend, anomaly, wildfires, pattern, and probability\n",
        "                (3) Data, Entity or Metric clearly describes the source, type, or nature of the data used by the AI system, e.g., from an optical camera, from an infrared camera, user input, sensor readings, transaction records, biometric data, environmental data, social media posts, geographical information, medical records, and financial metrics.\n",
        "\n",
        "        For \"Purpose\", write it also in a gerund verb form (i.e., ending with \"ing\").\n",
        "                \n",
        "        *** Ensure to output 3 uses per each of the {} domains above, i.e., {} uses in total. ***\n",
        "                \n",
        "        Follow this example structure for reporting the identified uses:\n",
        "        [\n",
        "            {{\n",
        "                \"Use\": 1,\n",
        "                \"Domain\": \"Biometric identification and categorization of natural persons\",\n",
        "                \"Purpose\": \"Identifying individuals in crowded areas\",\n",
        "                \"Capability\": \"Facial recognition from aerial footage\",\n",
        "                \"AI User\": \"Law enforcement agencies\",\n",
        "                \"AI Subject\": \"Individuals in public spaces\"\n",
        "            }},\n",
        "            {{\n",
        "                \"Use\": 2,\n",
        "                \"Domain\": \"Education\",\n",
        "                \"Purpose\": \"Personalized learning and tutoring\",\n",
        "                \"Capability\": \"Analyzing student performance and providing tailored study plans\",\n",
        "                \"AI User\": \"Teachers, educational platforms\",\n",
        "                \"AI Subject\": \"Students\"\n",
        "            }},\n",
        "            {{\n",
        "                \"Use\": 3,\n",
        "                \"Domain\": \"Finance\",\n",
        "                \"Purpose\": \"Fraud detection and prevention\",\n",
        "                \"Capability\": \"Identifying suspicious activities and transactions\",\n",
        "                \"AI User\": \"Banks, financial institutions\",\n",
        "                \"AI Subject\": \"Customers\"\n",
        "            }},\n",
        "            {{\n",
        "                \"Use\": 4,\n",
        "                \"Domain\": \"Healthcare\",\n",
        "                \"Purpose\": \"Assisting in medical diagnoses\",\n",
        "                \"Capability\": \"Analyzing patient data and suggesting potential conditions\",\n",
        "                \"AI User\": \"Healthcare professionals\",\n",
        "                \"AI Subject\": \"Patients\"\n",
        "            }},\n",
        "           ...\n",
        "            {{\n",
        "                \"Use\": 44,\n",
        "                \"Domain\": \"Entertainment\",\n",
        "                \"Purpose\": \"Recommending personalized content\",\n",
        "                \"Capability\": \"Analyzing user preferences and suggesting movies, music, etc.\",\n",
        "                \"AI User\": \"Streaming platforms, content providers\",\n",
        "                \"AI Subject\": \"Entertainment consumers\"\n",
        "            }}\n",
        "        ]\n",
        "\n",
        "        *** Ensure to output only the correctly formatted JSON and nothing else. ***\n",
        "        \"\"\"\n",
        "    }\n",
        "]\n"
      ]
    },
    {
      "cell_type": "code",
      "execution_count": 93,
      "metadata": {},
      "outputs": [],
      "source": [
        "def format_prompt(MESSAGES, domains):\n",
        "    messages = deepcopy(MESSAGES)\n",
        "    N = len(domains.split(\"\\n\"))\n",
        "    print (N)\n",
        "    messages[1]['content'] = messages[1]['content'].format(N, domains, N, 3*N)\n",
        "    return messages"
      ]
    },
    {
      "cell_type": "code",
      "execution_count": 94,
      "metadata": {},
      "outputs": [],
      "source": [
        "domains_part1 = \"\"\"1. Biometric identification and categorization of natural persons\n",
        "                2. Family\n",
        "                3. Romantic relationships and friendships\n",
        "                4. Health and Healthcare\n",
        "                5. Well-being\n",
        "                6. Human-Computer Interaction\n",
        "                7. Finance and Investment\n",
        "                8. Education and vocational training\n",
        "                9. Employment, workers management and access to self-employment\n",
        "                10. Essential private services and public services and benefits\n",
        "                11. Recommender Systems and Personalization\n",
        "                12. Social Media\n",
        "                13. Sports and Recreation\n",
        "                14. Arts and Entertainment\n",
        "                15. Security and Cybersecurity\"\"\"\n",
        "\n",
        "domains_part2 = \"\"\"16. Marketing and Advertising\n",
        "                17. Agriculture and Farming\n",
        "                18. Entrepreneurship\n",
        "                19. Autonomous Robots and Robotics\n",
        "                20. Innovation and Research\n",
        "                21. Management and Operation of critical infrastructure\n",
        "                22. Law enforcement\n",
        "                23. Migration, Asylum and Border control management\n",
        "                24. Democracy\n",
        "                25. Media and Communication\n",
        "                26. Accessibility and Inclusion\n",
        "                27. Energy\n",
        "                28. Military and Defense\n",
        "                29. Administration of justice and democratic processes\n",
        "                30. Government Services and Administration\"\"\"\n",
        "\n",
        "domains_part3 = \"\"\"31. Diplomacy and Foreign Policy\n",
        "                32. Food Safety and Regulation\n",
        "                33. Crisis Management and Emergency Response\n",
        "                34. Humanitarian Aid\n",
        "                35. Transport and Logistics\n",
        "                36. Urban Planning\n",
        "                37. Counterterrorism\n",
        "                38. Environment and Sustainability\n",
        "                39. International Law Enforcement and Cooperation\n",
        "                40. Climate Change Mitigation and Adaptation\n",
        "                41. Gaming and interactive experiences\n",
        "                42. Hobbies\n",
        "                43. Smart home\n",
        "                44. Social and Community Services\n",
        "                45. Public and private transportation\n",
        "                46. Interpersonal Communication\"\"\""
      ]
    },
    {
      "cell_type": "code",
      "execution_count": 95,
      "metadata": {},
      "outputs": [
        {
          "name": "stdout",
          "output_type": "stream",
          "text": [
            "15\n"
          ]
        }
      ],
      "source": [
        "messages1 = format_prompt(MESSAGES, domains_part1)\n",
        "response1 = chat_gpt(messages1)\n",
        "# print(response1)"
      ]
    },
    {
      "cell_type": "code",
      "execution_count": 98,
      "metadata": {},
      "outputs": [
        {
          "name": "stdout",
          "output_type": "stream",
          "text": [
            "15\n"
          ]
        }
      ],
      "source": [
        "messages2 = format_prompt(MESSAGES, domains_part2)\n",
        "response2 = chat_gpt(messages2)"
      ]
    },
    {
      "cell_type": "code",
      "execution_count": 101,
      "metadata": {},
      "outputs": [
        {
          "name": "stdout",
          "output_type": "stream",
          "text": [
            "16\n"
          ]
        }
      ],
      "source": [
        "messages3 = format_prompt(MESSAGES, domains_part3)\n",
        "response3 = chat_gpt(messages3)"
      ]
    },
    {
      "cell_type": "code",
      "execution_count": null,
      "metadata": {},
      "outputs": [],
      "source": [
        "print(response3)"
      ]
    },
    {
      "cell_type": "code",
      "execution_count": 105,
      "metadata": {},
      "outputs": [],
      "source": [
        "tmp1 = parse_response(response1)\n",
        "tmp2 = parse_response(response2)\n",
        "tmp3 = parse_response(response3)"
      ]
    },
    {
      "cell_type": "code",
      "execution_count": 116,
      "metadata": {},
      "outputs": [],
      "source": [
        "for el in tmp2:\n",
        "    el['Use'] = str(int(el['Use']) + 45)\n",
        "\n",
        "for el in tmp3:\n",
        "    el['Use'] = str(int(el['Use']) + 90)"
      ]
    },
    {
      "cell_type": "code",
      "execution_count": null,
      "metadata": {},
      "outputs": [],
      "source": []
    },
    {
      "cell_type": "code",
      "execution_count": 118,
      "metadata": {},
      "outputs": [],
      "source": [
        "RESPONSE = tmp1+tmp2+tmp3"
      ]
    },
    {
      "cell_type": "code",
      "execution_count": null,
      "metadata": {},
      "outputs": [],
      "source": []
    },
    {
      "cell_type": "code",
      "execution_count": null,
      "metadata": {},
      "outputs": [],
      "source": []
    },
    {
      "cell_type": "markdown",
      "metadata": {},
      "source": [
        "# SAVE"
      ]
    },
    {
      "cell_type": "code",
      "execution_count": 121,
      "metadata": {
        "colab": {
          "base_uri": "https://localhost:8080/",
          "height": 17
        },
        "id": "pLCJDHBvpmtb",
        "outputId": "c90e7ba3-6a22-4a2d-93f8-616e7cafd73f"
      },
      "outputs": [],
      "source": [
        "# Use json.dump to write the list to a file in JSON format\n",
        "with open('../../data/FRA_uses.json', 'w') as json_file:\n",
        "    json.dump(RESPONSE, json_file, indent=4)  # 4 spaces of indentation"
      ]
    },
    {
      "cell_type": "code",
      "execution_count": null,
      "metadata": {
        "id": "5NXvERd9ZO2d"
      },
      "outputs": [],
      "source": []
    }
  ],
  "metadata": {
    "colab": {
      "provenance": []
    },
    "kernelspec": {
      "display_name": "Python 3",
      "name": "python3"
    },
    "language_info": {
      "codemirror_mode": {
        "name": "ipython",
        "version": 3
      },
      "file_extension": ".py",
      "mimetype": "text/x-python",
      "name": "python",
      "nbconvert_exporter": "python",
      "pygments_lexer": "ipython3",
      "version": "3.10.13"
    }
  },
  "nbformat": 4,
  "nbformat_minor": 0
}
