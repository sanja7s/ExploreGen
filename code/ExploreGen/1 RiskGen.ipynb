{
 "cells": [
  {
   "cell_type": "markdown",
   "metadata": {
    "id": "-SAdSRUbYCg9"
   },
   "source": [
    "## Setup\n",
    "#### Load the API key and relevant Python libaries.\n",
    "\n",
    "##### this notebook runs in Colab"
   ]
  },
  {
   "cell_type": "code",
   "execution_count": 1,
   "metadata": {
    "id": "GtvvCAFdX1C0"
   },
   "outputs": [],
   "source": [
    "from collections import defaultdict\n",
    "import json\n",
    "import numpy as np\n",
    "import pandas as pd\n",
    "import os\n",
    "\n",
    "import io\n",
    "from dotenv import dotenv_values\n",
    "import openai\n",
    "import os\n",
    "from copy import deepcopy\n",
    "import time\n",
    "import ast\n",
    "import re\n",
    "import pprint\n",
    "from openai import OpenAI"
   ]
  },
  {
   "cell_type": "markdown",
   "metadata": {},
   "source": [
    "# LLM Open AI"
   ]
  },
  {
   "cell_type": "code",
   "execution_count": 2,
   "metadata": {
    "id": "Ft4wgujOYMQ1"
   },
   "outputs": [],
   "source": [
    "# Get the first key from the uploaded dictionary\n",
    "env_file_key = \"../../auixiliary/env_GENERAL\"\n",
    "\n",
    "# Open the file and read its content\n",
    "with open(env_file_key, 'r', encoding='utf-8') as file:\n",
    "    env_content = file.read()\n",
    "\n",
    "# Load the content into a variable\n",
    "env_variables = dotenv_values(stream=io.StringIO(env_content))\n",
    "\n",
    "api_key = env_variables['OPENAI_API_KEY']\n",
    "# openai.api_key = api_key\n",
    "\n",
    "client = OpenAI(\n",
    "    # This is the default and can be omitted\n",
    "    api_key=api_key,\n",
    ")\n"
   ]
  },
  {
   "cell_type": "markdown",
   "metadata": {},
   "source": [
    "# Models"
   ]
  },
  {
   "cell_type": "code",
   "execution_count": 3,
   "metadata": {},
   "outputs": [],
   "source": [
    "def chat_gpt(prompt):\n",
    "    response = client.chat.completions.create(\n",
    "        model=\"gpt-4-turbo-2024-04-09\",\n",
    "        messages=prompt\n",
    "    )\n",
    "    return response.choices[0].message.content.strip()"
   ]
  },
  {
   "cell_type": "markdown",
   "metadata": {
    "id": "CJB8XUktYYH1"
   },
   "source": []
  },
  {
   "cell_type": "markdown",
   "metadata": {
    "id": "jhK4vx3kH-wf"
   },
   "source": [
    "# Iterate and Save Use Riskiness Results"
   ]
  },
  {
   "cell_type": "markdown",
   "metadata": {
    "id": "NEhS1jnWK4Qb"
   },
   "source": [
    "# Functions"
   ]
  },
  {
   "cell_type": "code",
   "execution_count": 4,
   "metadata": {
    "id": "38YNvjADK4X-"
   },
   "outputs": [],
   "source": [
    "def replace_key(d, old_key, new_key):\n",
    "  \"\"\"\n",
    "  Replace `old_key` with `new_key` in dictionary `d`.\n",
    "  The associated value is retained.\n",
    "  \"\"\"\n",
    "  if old_key in d:\n",
    "      d[new_key] = d.pop(old_key)\n",
    "  return d"
   ]
  },
  {
   "cell_type": "markdown",
   "metadata": {
    "id": "YCFjpKmUaTm7"
   },
   "source": [
    "## Read In Prompt Result"
   ]
  },
  {
   "cell_type": "code",
   "execution_count": 5,
   "metadata": {
    "id": "-lRs_xfmaTuA"
   },
   "outputs": [],
   "source": [
    "def read_prompt_output(input_data_location):\n",
    "  \n",
    "  # Open the JSON file for reading\n",
    "  with open(input_data_location, 'r') as file:\n",
    "      # Load JSON data from file\n",
    "      file_content = json.load(file)\n",
    "\n",
    "  return file_content"
   ]
  },
  {
   "cell_type": "markdown",
   "metadata": {},
   "source": [
    "## READ DATA"
   ]
  },
  {
   "cell_type": "code",
   "execution_count": 32,
   "metadata": {},
   "outputs": [],
   "source": [
    "uses_of = \"HDI\""
   ]
  },
  {
   "cell_type": "code",
   "execution_count": 33,
   "metadata": {},
   "outputs": [],
   "source": [
    "data_location = \"../../data/\"\n",
    "USES = read_prompt_output(data_location + f\"LLM_uses_{uses_of}.json\")"
   ]
  },
  {
   "cell_type": "code",
   "execution_count": 34,
   "metadata": {},
   "outputs": [
    {
     "data": {
      "text/plain": [
       "{'Use': 2,\n",
       " 'Domain': 'Biometric identification and categorization of natural persons',\n",
       " 'Purpose': 'Crowd monitoring and control',\n",
       " 'Capability': 'Identifying and tracking individuals in crowds',\n",
       " 'AI User': 'Law enforcement agencies',\n",
       " 'AI Subject': 'Individuals in public spaces'}"
      ]
     },
     "execution_count": 34,
     "metadata": {},
     "output_type": "execute_result"
    }
   ],
   "source": [
    "USES[1]"
   ]
  },
  {
   "cell_type": "markdown",
   "metadata": {
    "id": "b_2wh5RuIKfj"
   },
   "source": [
    "# FINAL PROMPT"
   ]
  },
  {
   "cell_type": "code",
   "execution_count": 35,
   "metadata": {
    "id": "XVi4CdqBFHss"
   },
   "outputs": [],
   "source": [
    "# Assuming you have the variables domain, purpose, aiCapability, aiUser, and aiSubject defined with appropriate values\n",
    "\n",
    "MESSAGES = [\n",
    "    {\n",
    "        'role': 'system',\n",
    "        'content': \"\"\"You are an experienced regulatory compliance specialists who works in the field of AI technology regulation. You are thoughtful, decisive, experienced and conscientious.\n",
    "        You have access to the entirety of the EU AI Act and its amendments, which outline how various AI technologies are to be regulated and risk-classified within the European Union.\"\"\"\n",
    "    },\n",
    "    {\n",
    "        'role': 'user',\n",
    "        'content': \"\"\"\n",
    "\n",
    "        Classify the following AI system by utilizing a three-tier classification: 1) Prohibited, 2) High Risk, and 3) Limited or Low Risk.\n",
    "\n",
    "        Follow these four steps below:\n",
    "        1. Write a brief description of the AI system, using similar language to the EU AI Act. The description should start with \"The AI system intended to be used ...\", and be written in a single sentence.\n",
    "        2. Determine whether the AI system is Prohibited or of High Risk, providing the exact text from the EU AI Act and explaining the reasoning. Be very strict and verify the reasoning.\n",
    "        Assume High Risk unless there is clear evidence that it is Prohibited. Pay particular attention to the subject and user of the AI system, as this is critical for classification.\n",
    "        Ensure that the subject and user align with the text. They are very important. Also, ensure that you understand the purpose and the capability of the AI system as this is highly critical for the risk classification.\n",
    "        For example, the capability to verify patient identities by using AI technology implies the use of biometric identification of patients. Be aware of these and similar cases.\n",
    "        3. Go through all the amendments to the EU AI Act and ensure that nothing has changed that would affect the classification.\n",
    "        If something has changed, update the classification accordingly and explicitly reference the amendment that most closely resembles the AI system.\n",
    "        The amendments can be found under the text: \"Here are some important amendments to the Act:\"\n",
    "        4. If the AI system is neither Prohibited nor High Risk, classify it as Limited or Low Risk.\n",
    "\n",
    "        It is of utmost importance to exercise precision and make accurate judgments when classifying the risk associated with the AI system.\n",
    "        Please carefully consider all the regulations listed below during the risk classification of the AI system:\n",
    "\n",
    "    The relevant portions of the Act for what is Prohibited:\n",
    "  \n",
    "      Article 5: Prohibited Artificial Intelligence Practices\n",
    "\n",
    "      1. The following artificial intelligence practices shall be prohibited:\n",
    "        (a) the placing on the market, putting into service or use of an AI system that deploys subliminal techniques beyond a person’s consciousness or purposefully manipulative or deceptive techniques, with the objective to or the effect of materially distorting a person’s or a group of persons’ behaviour by appreciably impairing the person’s ability to make an informed decision, thereby causing the person to take a decision that that person would not have otherwise taken in a manner that causes or is likely to cause that person, another person or group of persons significant harm;\n",
    "        (b) the placing on the market, putting into service or use of an AI system that exploits any of the vulnerabilities of a person or a specific group of persons due to their age, disability or a specific social or economic situation, with the objective to or the effect of materially distorting the behaviour of that person or a person pertaining to that group in a manner that causes or is reasonably likely to cause that person or another person significant harm;\n",
    "        (ba) the placing on the market or putting into service for this specific purpose, or use of biometric categorisation systems that categorise individually natural persons based on their biometric data to deduce or infer their race, political opinions, trade union membership, religious or philosophical beliefs, sex life or sexual orientation. This prohibition does not cover any labelling or filtering of lawfully acquired biometric datasets, such as images, based on biometric data or categorizing of biometric data in the area of law enforcement;\n",
    "        (c) the placing on the market, putting into service or use of AI systems for the evaluation or classification of natural persons or groups thereof over a certain period of time based on their social behaviour or known, inferred or predicted personal or personality characteristics, with the social score leading to either or both of the following:\n",
    "          (i) detrimental or unfavourable treatment of certain natural persons or whole groups thereof in social contexts that are unrelated to the contexts in which the data was originally generated or collected;\n",
    "          (ii) detrimental or unfavourable treatment of certain natural persons or groups thereof that is unjustified or disproportionate to their social behaviour or its gravity;\n",
    "        (d) the use of ‘real-time’ remote biometric identification systems in publicly accessible spaces for the purpose of law enforcement unless and in as far as such use is strictly necessary for one of the following objectives:\n",
    "          (i) the targeted search for specific victims of abduction, trafficking in human beings and sexual exploitation of human beings as well as search for missing persons;\n",
    "          (ii) the prevention of a specific, substantial and imminent threat to the life or physical safety of natural persons or a genuine and present or genuine and foreseeable threat of a terrorist attack;\n",
    "          (iii) the localisation or identification of a person suspected of having committed a criminal offence, for the purposes of conducting a criminal investigation, prosecution or executing a criminal penalty for offences, referred to in Annex II and punishable in the Member State concerned by a custodial sentence or a detention order for a maximum period of at least four years. This paragraph is without prejudice to the provisions in Article 9 of the GDPR for the processing of biometric data for purposes other than law enforcement;\n",
    "        (da) the placing on the market, putting into service for this specific purpose, or use of an AI system for making risk assessments of natural persons in order to assess or predict the risk of a natural person to commit a criminal offence, based solely on the profiling of a natural person or on assessing their personality traits and characteristics; This prohibition shall not apply to AI systems used to support the human assessment of the involvement of a person in a criminal activity, which is already based on objective and verifiable facts directly linked to a criminal activity;\n",
    "        (db) the placing on the market, putting into service for this specific purpose, or use of AI systems that create or expand facial recognition databases through the untargeted scraping of facial images from the internet or CCTV footage;\n",
    "        (dc) the placing on the market, putting into service for this specific purpose, or use of AI systems to infer emotions of a natural person in the areas of workplace and education institutions except in cases where the use of the AI system is intended to be put in place or into the market for medical or safety reasons;\n",
    "\n",
    "      1a. This Article shall not affect the prohibitions that apply where an artificial intelligence practice infringes other Union law.\n",
    "\n",
    "      2. The use of ‘real-time’ remote biometric identification systems in publicly accessible spaces for the purpose of law enforcement for any of the objectives referred to in paragraph 1 point d) shall only be deployed for the purposes under paragraph 1, point d) to confirm the specifically targeted individual’s identity and it shall take into account the following elements:\n",
    "        (a) the nature of the situation giving rise to the possible use, in particular the seriousness, probability and scale of the harm caused in the absence of the use of the system;\n",
    "        (b) the consequences of the use of the system for the rights and freedoms of all persons concerned, in particular the seriousness, probability and scale of those consequences. In addition, the use of ‘real-time’ remote biometric identification systems in publicly accessible spaces for the purpose of law enforcement for any of the objectives referred to in paragraph 1 point d) shall comply with necessary and proportionate safeguards and conditions in relation to the use in accordance with national legislations authorizing the use thereof, in particular as regards the temporal, geographic and personal limitations. The use of the ‘real-time’ remote biometric identification system in publicly accessible spaces shall only be authorised if the law enforcement authority has completed a fundamental rights impact assessment as provided for in Article 27 and has registered the system in the database according to Article 49. However, in duly justified cases of urgency, the use of the system may be commenced without the registration, provided that the registration is completed without undue delay.\n",
    "      3. As regards paragraphs 1, point (d) and 2, each use for the purpose of law enforcement of a ‘real-time’ remote biometric identification system in publicly accessible spaces shall be subject to a prior authorisation granted by a judicial authority or an independent administrative authority whose decision is binding of the Member State in which the use is to take place, issued upon a reasoned request and in accordance with the detailed rules of national law referred to in paragraph 4. However, in a duly justified situation of urgency, the use of the system may be commenced without an authorisation provided that, such authorisation shall be requested without undue delay, at the latest within 24 hours. If such authorisation is rejected, its use shall be stopped with immediate effect and all the data, as well as the results and outputs of this use shall be immediately discarded and deleted. The competent judicial authority or an independent administrative authority whose decision is binding shall only grant the authorisation where it is satisfied, based on objective evidence or clear indications presented to it, that the use of the ‘real-time’ remote biometric identification system at issue is necessary for and proportionate to achieving one of the objectives specified in paragraph 1, point (d), as identified in the request and, in particular, remains limited to what is strictly necessary concerning the period of time as well as geographic and personal scope. In deciding on the request, the competent judicial authority or an independent administrative authority whose decision is binding shall take into account the elements referred to in paragraph 2. It shall be ensured that no decision that produces an adverse legal effect on a person may be taken by the judicial authority or an independent administrative authority whose decision is binding solely based on the output of the remote biometric identification system.\n",
    "      3a. Without prejudice to paragraph 3, each use of a ‘real-time’ remote biometric identification system in publicly accessible spaces for law enforcement purposes shall be notified to the relevant market surveillance authority and the national data protection authority in accordance with the national rules referred to in paragraph 4. The notification shall as a minimum contain the information specified under paragraph 5 and shall not include sensitive operational data.\n",
    "      4. A Member State may decide to provide for the possibility to fully or partially authorise the use of ‘real-time’ remote biometric identification systems in publicly accessible spaces for the purpose of law enforcement within the limits and under the conditions listed in paragraphs 1, point (d), 2 and 3. Member States concerned shall lay down in their national law the necessary detailed rules for the request, issuance and exercise of, as well as supervision and reporting relating to, the authorisations referred to in paragraph 3. Those rules shall also specify in respect of which of the objectives listed in paragraph 1, point (d), including which of the criminal offences referred to in point (iii) thereof, the competent authorities may be authorised to use those systems for the purpose of law enforcement. Member States shall notify those rules to the Commission at the latest 30 days following the adoption thereof. Member States may introduce, in accordance with Union law, more restrictive laws on the use of remote biometric identification systems.\n",
    "      5. National market surveillance authorities and the national data protection authorities of Member States that have been notified of the use of ‘real-time’ remote biometric identification systems in publicly accessible spaces for law enforcement purposes pursuant to paragraph 3a shall submit to the Commission annual reports on such use. For that purpose, the Commission shall provide Member States and national market surveillance and data protection authorities with a template, including information on the number of the decisions taken by competent judicial authorities or an independent administrative authority whose decision is binding upon requests for authorisations in accordance with paragraph 3 and their result.\n",
    "      6. The Commission shall publish annual reports on the use of ‘real-time’ remote biometric identification systems in publicly accessible spaces for law enforcement purposes based on aggregated data in Member States based on the annual reports referred to in paragraph 5, which shall not include sensitive operational data of the related law enforcement activities.\n",
    "\n",
    "    (*) For the purposes of this Regulation the notion of *publicly accessible* space should be understood as referring to any physical place that is accessible to an undetermined number of natural persons, and irrespective of whether the place in question is privately or publicly owned and irrespective of the activity for which the place may be used, such as commerce (for instance, shops, restaurants, cafés), services (for instance, banks, professional activities, hospitality), sport (for instance, swimming pools, gyms, stadiums), transport (for instance, bus, metro and railway stations, airports, means of transport ), entertainment (for instance, cinemas, theatres, museums, concert and conference halls) leisure or otherwise (for instance, public roads and squares, parks, forests, playgrounds). A place should be classified as publicly accessible also if, regardless of potential capacity or security restrictions, access is subject to certain predetermined conditions, which can be fulfilled by an undetermined number of persons, such as purchase of a ticket or title of transport, prior registration or having a certain age. By contrast, a place should not be considered publicly accessible if access is limited to specific and defined natural persons through either Union or national law directly related to public safety or security or through the clear manifestation of will by the person having the relevant authority on the place. The factual possibility of access alone (e.g. an unlocked door, an open gate in a fence) does not imply that the place is publicly accessible in the presence of indications or circumstances suggesting the contrary (e.g. signs prohibiting or restricting access). Company and factory premises as well as offices and workplaces that are intended to be accessed only by relevant employees and service providers are places that are not publicly accessible. Publicly accessible spaces should not include prisons or border control. Some other areas may be composed of both not publicly accessible and publicly accessible areas, such as the hallway of a private residential building necessary to access a doctor's office or an airport. Online spaces are not covered either, as they are not physical spaces. Whether a given space is accessible to the public should however be determined on a case-by-case basis, having regard to the specificities of the individual situation at hand.\n",
    "\n",
    "    \n",
    "  The relevant portions of the Act for what is High Risk:\n",
    "\n",
    "    Article 6: Classification Rules for High-Risk AI Systems\n",
    "      1. Irrespective of whether an AI system is placed on the market or put into service independently from the products referred to in points (a) and (b), that AI system shall be considered high-risk where both of the following conditions are fulfilled:\n",
    "        (a) the AI system is intended to be used as a safety component of a product, or the AI system is itself a product, covered by the Union harmonisation legislation listed in Annex I;\n",
    "        (b) the product whose safety component pursuant to point (a) is the AI system, or the AI system itself as a product, is required to undergo a third party conformity assessment, with a view to the placing on the market or putting into service of that product pursuant to the Union harmonisation legislation listed in Annex I.\n",
    "      2. In addition to the high-risk AI systems referred to in paragraph 1, AI systems referred to in Annex III shall also be considered high-risk.\n",
    "      2a. By derogation from paragraph 2 AI systems shall not be considered as high risk if they do not pose a significant risk of harm, to the health, safety or fundamental rights of natural persons, including by not materially influencing the outcome of decision making. This shall be the case if one or more of the following criteria are fulfilled:\n",
    "        (a) the AI system is intended to perform a narrow procedural task;\n",
    "        (b) the AI system is intended to improve the result of a previously completed human activity;\n",
    "        (c) the AI system is intended to detect decision-making patterns or deviations from prior decision-making patterns and is not meant to replace or influence the previously completed human assessment, without proper human review; or\n",
    "        (d) the AI system is intended to perform a preparatory task to an assessment relevant for the purpose of the use cases listed in Annex III. Notwithstanding first subparagraph of this paragraph, an AI system shall always be considered high-risk if the AI system performs profiling of natural persons.\n",
    "      2b. A provider who considers that an AI system referred to in Annex III is not high-risk shall document its assessment before that system is placed on the market or put into service. Such provider shall be subject to the registration obligation set out in Article 49(1a). Upon request of national competent authorities, the provider shall provide the documentation of the assessment.\n",
    "      2c. The Commission shall, after consulting the AI Board, and no later than [18 months] after the entry into force of this Regulation, provide guidelines specifying the practical implementation of this article completed by a comprehensive list of practical examples of high risk and non-high risk use cases on AI systems pursuant to Article 82b.\n",
    "      2d. The Commission is empowered to adopt delegated acts in accordance with Article 97 to amend the criteria laid down in points a) to d) of the first subparagraph of paragraph 2a. The Commission may adopt delegated acts adding new criteria to those laid down in points a) to d) of the first subparagraph of paragraph 2a, or modifying them, only where there is concrete and reliable evidence of the existence of AI systems that fall under the scope of Annex III but that do not pose a significant risk of harm to the health, safety and fundamental rights. The Commission shall adopt delegated acts deleting any of the criteria laid down in the first subparagraph of paragraph 2a where there is concrete and reliable evidence that this is necessary for the purpose of maintaining the level of protection of health, safety and fundamental rights in the Union. Any amendment to the criteria laid down in points a) to d) set out in the first subparagraph of paragraph 2a shall not decrease the overall level of protection of health, safety and fundamental rights in the Union. When adopting the delegated acts, the Commission shall ensure consistency with the delegated acts adopted pursuant to Article 7(1) and shall take account of market and technological developments.\n",
    "\n",
    "\n",
    "    Annex I: List of Union Harmonisation Legislation\n",
    "\n",
    "    Part I Section A. List of Union harmonisation legislation based on the New Legislative Framework\n",
    "    1. Directive 2006/42/EC of the European Parliament and of the Council of 17 May 2006 on machinery, and amending Directive 95/16/EC (OJ L 157, 9.6.2006, p. 24) [as repealed by the Machinery Regulation].\n",
    "    2. Directive 2009/48/EC of the European Parliament and of the Council of 18 June 2009 on the safety of toys (OJ L 170, 30.6.2009, p. 1).\n",
    "    3. Directive 2013/53/EU of the European Parliament and of the Council of 20 November 2013 on recreational craft and personal watercraft and repealing Directive 94/25/EC (OJ L 354, 28.12.2013, p. 90).\n",
    "    4. Directive 2014/33/EU of the European Parliament and of the Council of 26 February 2014 on the harmonisation of the laws of the Member States relating to lifts and safety components for lifts (OJ L 96, 29.3.2014, p. 251).\n",
    "    5. Directive 2014/34/EU of the European Parliament and of the Council of 26 February 2014 on the harmonisation of the laws of the Member States relating to equipment and protective systems intended for use in potentially explosive atmospheres (OJ L 96, 29.3.2014, p. 309).\n",
    "    6. Directive 2014/53/EU of the European Parliament and of the Council of 16 April 2014 on the harmonisation of the laws of the Member States relating to the making available on the market of radio equipment and repealing Directive 1999/5/EC (OJ L 153, 22.5.2014, p. 62).\n",
    "    7. Directive 2014/68/EU of the European Parliament and of the Council of 15 May 2014 on the harmonisation of the laws of the Member States relating to the making available on the market of pressure equipment (OJ L 189, 27.6.2014, p. 164).\n",
    "    8. Regulation (EU) 2016/424 of the European Parliament and of the Council of 9 March 2016 on cableway installations and repealing Directive 2000/9/EC (OJ L 81, 31.3.2016, p. 1).\n",
    "    9. Regulation (EU) 2016/425 of the European Parliament and of the Council of 9 March 2016 on personal protective equipment and repealing Council Directive 89/686/EEC (OJ L 81, 31.3.2016, p. 51).\n",
    "    10. Regulation (EU) 2016/426 of the European Parliament and of the Council of 9 March 2016 on appliances burning gaseous fuels and repealing Directive 2009/142/EC (OJ L 81, 31.3.2016, p. 99).\n",
    "    11. Regulation (EU) 2017/745 of the European Parliament and of the Council of 5 April 2017 on medical devices, amending Directive 2001/83/EC, Regulation (EC) No 178/2002 and Regulation (EC) No 1223/2009 and repealing Council Directives 90/385/EEC and 93/42/EEC (OJ L 117, 5.5.2017, p. 1.\n",
    "    12. Regulation (EU) 2017/746 of the European Parliament and of the Council of 5 April 2017 on in vitro diagnostic medical devices and repealing Directive 98/79/EC and Commission Decision 2010/227/EU (OJ L 117, 5.5.2017, p. 176).\n",
    "\n",
    "    Part II Section B. List of other Union harmonisation legislation\n",
    "    13. Regulation (EC) No 300/2008 of the European Parliament and of the Council of 11 March 2008 on common rules in the field of civil aviation security and repealing Regulation (EC) No 2320/2002 (OJ L 97, 9.4.2008, p. 72).\n",
    "    14. Regulation (EU) No 168/2013 of the European Parliament and of the Council of 15 January 2013 on the approval and market surveillance of two- or three-wheel vehicles and quadricycles (OJ L 60, 2.3.2013, p. 52).\n",
    "    15. Regulation (EU) No 167/2013 of the European Parliament and of the Council of 5 February 2013 on the approval and market surveillance of agricultural and forestry vehicles (OJ L 60, 2.3.2013, p. 1).\n",
    "    16. Directive 2014/90/EU of the European Parliament and of the Council of 23 July 2014 on marine equipment and repealing Council Directive 96/98/EC (OJ L 257, 28.8.2014, p. 146).\n",
    "    17. Directive (EU) 2016/797 of the European Parliament and of the Council of 11 May 2016 on the interoperability of the rail system within the European Union (OJ L 138, 26.5.2016, p. 44).\n",
    "    18. Regulation (EU) 2018/858 of the European Parliament and of the Council of 30 May 2018 on the approval and market surveillance of motor vehicles and their trailers, and of systems, components and separate technical units intended for such vehicles, amending Regulations (EC) No 715/2007 and (EC) No 595/2009 and repealing Directive 2007/46/EC (OJ L 151, 14.6.2018, p. 1).\n",
    "    18a. Regulation (EU) 2019/2144 of the European Parliament and of the Council of 27 November 2019 on type-approval requirements for motor vehicles and their trailers, and systems, components and separate technical units intended for such vehicles, as regards their general safety and the protection of vehicle occupants and vulnerable road users, amending Regulation (EU) 2018/858 of the European Parliament and of the Council and repealing Regulations (EC) No 78/2009, (EC) No 79/2009 and (EC) No 661/2009 of the European Parliament and of the Council and Commission Regulations (EC) No 631/2009, (EU) No 406/2010, (EU) No 672/2010, (EU) No 1003/2010, (EU) No 1005/2010, (EU) No 1008/2010, (EU) No 1009/2010, (EU) No 19/2011, (EU) No 109/2011, (EU) No 458/2011, (EU) No 65/2012, (EU) No 130/2012, (EU) No 347/2012, (EU) No 351/2012, (EU) No 1230/2012 and (EU) 2015/166 (OJ L 325, 16.12.2019, p. 1).\n",
    "    19. Regulation (EU) 2018/1139 of the European Parliament and of the Council of 4 July 2018 on common rules in the field of civil aviation and establishing a European Union Aviation Safety Agency, and amending Regulations (EC) No 2111/2005, (EC) No 1008/2008, (EU) No 996/2010, (EU) No 376/2014 and Directives 2014/30/EU and 2014/53/EU of the European Parliament and of the Council, and repealing Regulations (EC) No 552/2004 and (EC) No 216/2008 of the European Parliament and of the Council and Council Regulation (EEC) No 3922/91 (OJ L 212, 22.8.2018, p. 1), in so far as the design, production and placing on the market of aircrafts referred to in points (a) and (b) of Article 2(1) thereof, where it concerns unmanned aircraft and their engines, propellers, parts and equipment to control them remotely, are concerned.\n",
    "\n",
    "    Annex II: List of Criminal Offences\n",
    "    Original title: Annex II: List of Criminal Offences Referred to in Article 5(1)(iii)\n",
    "      Terrorism,\n",
    "      Trafficking in human beings,\n",
    "      Sexual exploitation of children and child pornography,\n",
    "      Illicit trafficking in narcotic drugs and psychotropic substances,\n",
    "      Illicit trafficking in weapons,\n",
    "      Munitions and explosives,\n",
    "      Murder,\n",
    "      Grievous bodily injury,\n",
    "      Illicit trade in human organs and tissue,\n",
    "      Illicit trafficking in nuclear or radioactive materials,\n",
    "      Kidnapping, illegal restraint and hostage-taking,\n",
    "      Crimes within the jurisdiction of the International Criminal Court,\n",
    "      Unlawful seizure of aircraft/ships,\n",
    "      Rape,\n",
    "      Environmental crime,\n",
    "      Organised or armed robbery,\n",
    "      Sabotage,\n",
    "      Participation in a criminal organisation involved in one or more offences listed above.\n",
    "\n",
    "    Annex III: High-Risk AI Systems Referred to in Article 6(2) \n",
    "    High-risk AI systems pursuant to Article 6(2) are the AI systems listed in any of the following areas:\n",
    "      1. Biometrics, insofar as their use is permitted under relevant Union or national law:\n",
    "        (a) Remote biometric identification systems. This shall not include AI systems intended to be used for biometric verification whose sole purpose is to confirm that a specific natural person is the person he or she claims to be;\n",
    "        (aa) AI systems intended to be used for biometric categorisation, according to sensitive or protected attributes or characteristics based on the inference of those attributes or characteristics;\n",
    "        (ab) AI systems intended to be used for emotion recognition.\n",
    "      2. Critical infrastructure:\n",
    "        (a) AI systems intended to be used as safety components in the management and operation of critical digital infrastructure, road traffic and the supply of water, gas, heating and electricity.\n",
    "      3. Education and vocational training:\n",
    "        (a) AI systems intended to be used to determine access or admission or to assign natural persons to educational and vocational training institutions at all levels;\n",
    "        (b) AI systems intended to be used to evaluate learning outcomes, including when those outcomes are used to steer the learning process of natural persons in educational and vocational training institutions at all levels;\n",
    "        (ba) AI systems intended to be used for the purpose of assessing the appropriate level of education that individual will receive or will be able to access, in the context of/within education and vocational training institution;\n",
    "        (bb) AI systems intended to be used for monitoring and detecting prohibited behaviour of students during tests in the context of/within education and vocational training institutions.\n",
    "      4. Employment, workers management and access to self-employment:\n",
    "        (a) AI systems intended to be used for recruitment or selection of natural persons, notably to place targeted job advertisements, to analyse and filter job applications, and to evaluate candidates;\n",
    "        (b) AI intended to be used to make decisions affecting terms of the work related relationships, promotion and termination of work-related contractual relationships, to allocate tasks based on individual behaviour or personal traits or characteristics and to monitor and evaluate performance and behaviour of persons in such relationships.\n",
    "      5. Access to and enjoyment of essential private services and essential public services and benefits:\n",
    "        (a) AI systems intended to be used by public authorities or on behalf of public authorities to evaluate the eligibility of natural persons for essential public assistance benefits and services, including healthcare services, as well as to grant, reduce, revoke, or reclaim such benefits and services;\n",
    "        (b) AI systems intended to be used to evaluate the creditworthiness of natural persons or establish their credit score , with the exception of AI systems used for the purpose of detecting financial fraud;\n",
    "        (c) AI systems intended to evaluate and classify emergency calls by natural persons or to be used to dispatch, or to establish priority in the dispatching of emergency first response services, including by police, firefighters and medical aid, as well as of emergency healthcare patient triage systems;\n",
    "        (ca) AI systems intended to be used for risk assessment and pricing in relation to natural persons in the case of life and health insurance.\n",
    "      6. Law enforcement, insofar as their use is permitted under relevant Union or national law:\n",
    "        (a) AI systems intended to be used by or on behalf of law enforcement authorities, or by Union institutions, agencies, offices or bodies in support of law enforcement authorities or on their behalf to assess the risk of a natural person to become a victim of criminal offences;\n",
    "        (b) AI systems intended to be used by or on behalf of law enforcement authorities or by Union institutions, bodies and agencies in support of Law enforcement authorities as polygraphs and similar tools;\n",
    "        (d) AI systems intended to be used by or on behalf of law enforcement authorities, or by Union institutions, agencies, offices or bodies in support of law enforcement authorities to evaluate the reliability of evidence in the course of investigation or prosecution of criminal offences;\n",
    "        (e) AI systems intended to be used by law enforcement authorities or on their behalf or by Union institutions, agencies, offices or bodies in support of law enforcement authorities for assessing the risk of a natural person of offending or re-offending not solely based on profiling of natural persons as referred to in Article 3(4) of Directive (EU) 2016/680 or to assess personality traits and characteristics or past criminal behaviour of natural persons or groups;\n",
    "        (f) AI systems intended to be used by or on behalf of law enforcement authorities or by Union agencies institutions, agencies, offices or bodies in support of law enforcement authorities for profiling of natural persons as referred to in Article 3(4) of Directive (EU) 2016/680 in the course of detection, investigation or prosecution of criminal offences;\n",
    "      7. Migration, asylum and border control management, insofar as their use is permitted under relevant Union or national law:\n",
    "        (a) AI systems intended to be used by competent public authorities as polygraphs and similar tools;\n",
    "        (b) AI systems intended to be used by or on behalf of competent public authorities or by Union agencies, offices or bodies to assess a risk, including a security risk, a risk of irregular migration, or a health risk, posed by a natural person who intends to enter or has entered into the territory of a Member State;\n",
    "        (d) AI systems intended to be used by or on behalf of competent public authorities or by Union agencies, offices or bodies to assist competent public authorities for the examination of applications for asylum, visa and residence permits and associated complaints with regard to the eligibility of the natural persons applying for a status, including related assessment of the reliability of evidence;\n",
    "        (da) AI systems intended to be used by or on behalf of competent public authorities, including Union agencies, offices or bodies, in the context of migration, asylum and border control management, for the purpose of detecting, recognising or identifying natural persons with the exception of verification of travel documents.\n",
    "      8. Administration of justice and democratic processes:\n",
    "        (a) AI systems intended to be used by a judicial authority or on their behalf to assist a judicial authority in researching and interpreting facts and the law and in applying the law to a concrete set of facts or used in a similar way in alternative dispute resolution;\n",
    "        (aa) AI systems intended to be used for influencing the outcome of an election or referendum or the voting behaviour of natural persons in the exercise of their vote in elections or referenda. This does not include AI systems whose output natural persons are not directly exposed to, such as tools used to organise, optimise and structure political campaigns from an administrative and logistic point of view;\n",
    "\n",
    "        \n",
    "    Article 7: Amendments to Annex III\n",
    "      1. The Commission is empowered to adopt delegated acts in accordance with Article 97 to amend Annex III by adding or modifying use cases of high-risk AI systems where both of the following conditions are fulfilled:\n",
    "        (a) the AI systems are intended to be used in any of the areas listed in points 1 to 8 of Annex III;\n",
    "        (b) the AI systems pose a risk of harm to health and safety, or an adverse impact on fundamental rights, and that risk is equivalent to or greater than the risk of harm or of adverse impact posed by the high-risk AI systems already referred to in Annex III.\n",
    "      2. When assessing for the purposes of paragraph 1 whether an AI system poses a risk of harm to the health and safety or a risk of adverse impact on fundamental rights that is equivalent to or greater than the risk of harm posed by the high-risk AI systems already referred to in Annex III, the Commission shall take into account the following criteria:\n",
    "        (a) the intended purpose of the AI system;\n",
    "        (b) the extent to which an AI system has been used or is likely to be used;\n",
    "        (ba) the nature and amount of the data processed and used by the AI system, in particular whether special categories of personal data are processed;\n",
    "        (bb) the extent to which the AI system acts autonomously and the possibility for a human to override a decision or recommendations that may lead to potential harm;\n",
    "        (c) the extent to which the use of an AI system has already caused harm to health and safety, has had an adverse impact on fundamental rights or has given rise to significant concerns in relation to the likelihood of such harm or adverse impact, as demonstrated for example by reports or documented allegations submitted to national competent authorities or by other reports, as appropriate;\n",
    "        (d) the potential extent of such harm or such adverse impact, in particular in terms of its intensity and its ability to affect a plurality of persons or to disproportionately affect a particular group of persons;\n",
    "        (e) the extent to which potentially harmed or adversely impacted persons are dependent on the outcome produced with an AI system, in particular because for practical or legal reasons it is not reasonably possible to opt-out from that outcome;\n",
    "        (f) the extent to which there is an imbalance of power, or the potentially harmed or adversely impacted persons are in a vulnerable position in relation to the user of an AI system, in particular due to status, authority, knowledge, economic or social circumstances, or age;\n",
    "        (g) the extent to which the outcome produced involving an AI system is easily corrigible or reversible, taking into account the technical solutions available to correct or reverse, whereby outcomes having and adverse impact on health, safety, fundamental rights, shall not be considered as easily corrigible or reversible;\n",
    "        (gb) the magnitude and likelihood of benefit of the deployment of the AI system for individuals, groups, or society at large, including possible improvements in product safety;\n",
    "        (h) the extent to which existing Union legislation provides for:\n",
    "          (i) effective measures of redress in relation to the risks posed by an AI system, with the exclusion of claims for damages;\n",
    "          (ii) effective measures to prevent or substantially minimise those risks.\n",
    "      2a. The Commission is empowered to adopt delegated acts in accordance with Article 97 to amend the list in Annex III by removing high-risk AI systems where both of the following conditions are fulfilled:\n",
    "        (a) the high-risk AI system(s) concerned no longer pose any significant risks to fundamental rights, health or safety, taking into account the criteria listed in paragraph 2;\n",
    "        (b) the deletion does not decrease the overall level of protection of health, safety and fundamental rights under Union law.\n",
    "\n",
    "      Write the reasoning to be concise, fitting into one sentence of a maximum of 25 words and distilling the key info, which helps to understand why the use is Prohibiyed, High Risk or Limited or Low Risk. The format for the statement is as follows:\n",
    "        if the use is classified as \"Prohibited\":\n",
    "            \"Prohibited\" due to [THE REASON], which falls under the EU AI Act [RELEVANT SECTION or RULE].\n",
    "        if the use is classified as \"High Risk\":\n",
    "            \"High Risk\" due to [THE REASON], which falls under the EU AI Act [RELEVANT SECTION or RULE].\n",
    "        or, if the classification is \"Limited or Low Risk\":\n",
    "            \"Limited or Low Risk\" due to [THE REASON] [mention the EU AI Act if useful only].  \n",
    "    \n",
    "    Here are the details of the AI system:\n",
    "\n",
    "        Domain: \"{}\",\n",
    "        Purpose: \"{}\",\n",
    "        Capability: \"{}\",\n",
    "        AI User: \"{}\",\n",
    "        AI Subject: \"{}\"\n",
    "\n",
    "         Please return the classification in the following format:\n",
    "         {{\n",
    "           \"Description\": \"The AI system intended to be used ...\",\n",
    "           \"Classification\": [\"Prohibited\"/\"High Risk\"/\"Limited or Low Risk\"],\n",
    "           \"Relevant Text from the EU AI Act\": \"[Quotation if applicable] - Include the Article, Annex, or Amendment or other EU AI Act section that mostly appropriately justifies the classification.\",\n",
    "           \"Reasoning\": \"[CLASSIFICATION] due to [THE REASON], mention the EU AI Act if [RELEVANT SECTION or RULE].\"\n",
    "         }}\n",
    "        \n",
    "        \n",
    "        Ensure to output a *CORRECTLY FORMATTED* JSON!!!\n",
    "        \"\"\"\n",
    "    }\n",
    "]\n",
    "\n",
    "\n",
    "\n",
    "def format_prompt(MESSAGES, domain,purpose,aiCapability,aiUser,aiSubject):\n",
    "    S = \"test {}\"\n",
    "    messages = deepcopy(MESSAGES)\n",
    "    messages[1]['content'] = messages[1]['content'].format(domain,purpose,aiCapability,aiUser,aiSubject)\n",
    "    return messages\n"
   ]
  },
  {
   "cell_type": "markdown",
   "metadata": {
    "id": "VFYeJHYnLKdm"
   },
   "source": [
    "# APPLY / RUN"
   ]
  },
  {
   "cell_type": "code",
   "execution_count": 36,
   "metadata": {},
   "outputs": [
    {
     "data": {
      "text/plain": [
       "{'Use': 8,\n",
       " 'Domain': 'Romantic relationships and friendships',\n",
       " 'Purpose': 'Planning and executing surprises',\n",
       " 'Capability': 'Delivering gifts, messages',\n",
       " 'AI User': 'Individuals, friends',\n",
       " 'AI Subject': 'Friends, romantic partners'}"
      ]
     },
     "execution_count": 36,
     "metadata": {},
     "output_type": "execute_result"
    }
   ],
   "source": [
    "USES[7]"
   ]
  },
  {
   "cell_type": "code",
   "execution_count": 37,
   "metadata": {},
   "outputs": [],
   "source": [
    "def parse_single_use(useElements):\n",
    "\n",
    "    start_time = time.time()\n",
    "\n",
    "    useI = str(useElements['Use'])\n",
    "    print (f\" Parsing use {useI}\")\n",
    "\n",
    "    # Variables for message placeholders\n",
    "    domain = useElements['Domain']\n",
    "    purpose = useElements['Purpose']\n",
    "    aiCapability = useElements['Capability']\n",
    "    aiUser = useElements['AI User']\n",
    "    aiSubject = useElements['AI Subject']\n",
    "\n",
    "    # Extracting \"Use i\" details\n",
    "    use_i_details = [domain, purpose, aiCapability, aiUser, aiSubject]\n",
    "    # print(use_i_details)\n",
    "\n",
    "    # adapt the prompt for useI\n",
    "    messages = format_prompt(MESSAGES, domain,purpose,aiCapability,aiUser,aiSubject)\n",
    "    response = chat_gpt(messages)\n",
    "    print(response)\n",
    "    end_time = time.time()\n",
    "    print (f\"This use processing took {end_time-start_time} seconds.\")\n",
    "\n",
    "    try:\n",
    "        # print (type(response))\n",
    "        response = ast.literal_eval(response)\n",
    "        replace_key(response, \"Relevant Text from the EU AI Act\", \"AIActText\")\n",
    "    except Exception as e:\n",
    "        response = response.replace(\"```\", \"\").replace(\"json\", \"\").strip()\n",
    "        response = ast.literal_eval(response)\n",
    "        replace_key(response, \"Relevant Text from the EU AI Act\", \"AIActText\")\n",
    "\n",
    "    combined_response = useElements\n",
    "    for k, v in response.items():\n",
    "        combined_response[k] = v\n",
    "\n",
    "    return combined_response"
   ]
  },
  {
   "cell_type": "code",
   "execution_count": 38,
   "metadata": {},
   "outputs": [
    {
     "name": "stdout",
     "output_type": "stream",
     "text": [
      " Parsing use 1\n",
      "```json\n",
      "{\n",
      "  \"Description\": \"The AI system intended to be used for facial recognition by security agencies and corporations to capture and analyze facial features of individuals in secured areas.\",\n",
      "  \"Classification\": \"High Risk\",\n",
      "  \"Relevant Text from the EU AI Act\": \"Article 6(2): High-risk AI systems pursuant to Article 6(2) are the AI systems listed in any of the following areas: Biometrics, insofar as their use is permitted under relevant Union or national law: (a) Remote biometric identification systems. This shall not include AI systems intended to be used for biometric verification whose sole purpose is to confirm that a specific natural person is the person he or she claims to be; (aa) AI systems intended to be used for biometric categorization, according to sensitive or protected attributes or characteristics based on the inference of those attributes or characteristics; (ab) AI systems intended to be used for emotion recognition.\",\n",
      "  \"Reasoning\": \"High Risk due to involvement in biometric identification and categorization, which falls under the EU AI Act Annex III: High Risk AI Systems.\"\n",
      "}\n",
      "```\n",
      "This use processing took 11.24197506904602 seconds.\n",
      " Parsing use 2\n",
      "{\n",
      "  \"Description\": \"The AI system intended to be used by law enforcement agencies for crowd monitoring and control, capable of identifying and tracking individuals in public spaces.\",\n",
      "  \"Classification\": \"Prohibited\",\n",
      "  \"Relevant Text from the EU AI Act\": \"Article 5(1)(d) - the use of ‘real-time’ remote biometric identification systems in publicly accessible spaces for the purpose of law enforcement unless and in as far as such use is strictly necessary for one of the following objectives: the targeted search for specific victims of abduction, trafficking in human beings and sexual exploitation of human beings as well as search for missing persons; the prevention of a specific, substantial and imminent threat to the life or physical safety of natural persons or a genuine and present or genuine and foreseeable threat of a terrorist attack; the localisation or identification of a person suspected of having committed a criminal offence, for the purposes of conducting a criminal investigation, prosecution or executing a criminal penalty for offences, referred to in Annex II and punishable in the Member State concerned by a custodial sentence or a detention order for a maximum period of at least four years.\",\n",
      "  \"Reasoning\": \"Prohibited due to the use in publicly accessible spaces for general crowd monitoring, which falls under the EU AI Act Article 5(1)(d).\"\n",
      "}\n",
      "This use processing took 11.427088975906372 seconds.\n",
      " Parsing use 3\n",
      "{\n",
      "  \"Description\": \"The AI system intended to be used by wildlife researchers and conservation organizations for identifying and tracking animal species.\",\n",
      "  \"Classification\": \"Limited or Low Risk\",\n",
      "  \"Relevant Text from the EU AI Act\": \"\",\n",
      "  \"Reasoning\": \"Limited or Low Risk due to its application in wildlife research without impacting human subjects or processing sensitive personal data.\"\n",
      "}\n",
      "This use processing took 4.869965076446533 seconds.\n"
     ]
    }
   ],
   "source": [
    "all_uses = []\n",
    "for IND in range(3):\n",
    "\n",
    "    usee_elements = USES[IND]\n",
    "\n",
    "    use_response= parse_single_use(usee_elements)\n",
    "\n",
    "    all_uses.append(use_response)"
   ]
  },
  {
   "cell_type": "code",
   "execution_count": 40,
   "metadata": {
    "id": "M-Gnmj0zLpUW"
   },
   "outputs": [
    {
     "data": {
      "text/plain": [
       "[{'Use': 1,\n",
       "  'Domain': 'Biometric identification and categorization of natural persons',\n",
       "  'Purpose': 'Facial recognition for security',\n",
       "  'Capability': 'Capturing and analyzing facial features',\n",
       "  'AI User': 'Security agencies, corporations',\n",
       "  'AI Subject': 'Individuals in secured areas',\n",
       "  'Description': 'The AI system intended to be used for facial recognition by security agencies and corporations to capture and analyze facial features of individuals in secured areas.',\n",
       "  'Classification': 'High Risk',\n",
       "  'Reasoning': 'High Risk due to involvement in biometric identification and categorization, which falls under the EU AI Act Annex III: High Risk AI Systems.',\n",
       "  'AIActText': 'Article 6(2): High-risk AI systems pursuant to Article 6(2) are the AI systems listed in any of the following areas: Biometrics, insofar as their use is permitted under relevant Union or national law: (a) Remote biometric identification systems. This shall not include AI systems intended to be used for biometric verification whose sole purpose is to confirm that a specific natural person is the person he or she claims to be; (aa) AI systems intended to be used for biometric categorization, according to sensitive or protected attributes or characteristics based on the inference of those attributes or characteristics; (ab) AI systems intended to be used for emotion recognition.'},\n",
       " {'Use': 2,\n",
       "  'Domain': 'Biometric identification and categorization of natural persons',\n",
       "  'Purpose': 'Crowd monitoring and control',\n",
       "  'Capability': 'Identifying and tracking individuals in crowds',\n",
       "  'AI User': 'Law enforcement agencies',\n",
       "  'AI Subject': 'Individuals in public spaces',\n",
       "  'Description': 'The AI system intended to be used by law enforcement agencies for crowd monitoring and control, capable of identifying and tracking individuals in public spaces.',\n",
       "  'Classification': 'Prohibited',\n",
       "  'Reasoning': 'Prohibited due to the use in publicly accessible spaces for general crowd monitoring, which falls under the EU AI Act Article 5(1)(d).',\n",
       "  'AIActText': 'Article 5(1)(d) - the use of ‘real-time’ remote biometric identification systems in publicly accessible spaces for the purpose of law enforcement unless and in as far as such use is strictly necessary for one of the following objectives: the targeted search for specific victims of abduction, trafficking in human beings and sexual exploitation of human beings as well as search for missing persons; the prevention of a specific, substantial and imminent threat to the life or physical safety of natural persons or a genuine and present or genuine and foreseeable threat of a terrorist attack; the localisation or identification of a person suspected of having committed a criminal offence, for the purposes of conducting a criminal investigation, prosecution or executing a criminal penalty for offences, referred to in Annex II and punishable in the Member State concerned by a custodial sentence or a detention order for a maximum period of at least four years.'},\n",
       " {'Use': 3,\n",
       "  'Domain': 'Biometric identification and categorization of natural persons',\n",
       "  'Purpose': 'Wildlife research and conservation',\n",
       "  'Capability': 'Identifying and tracking animal species',\n",
       "  'AI User': 'Wildlife researchers, conservation organizations',\n",
       "  'AI Subject': 'Wildlife species',\n",
       "  'Description': 'The AI system intended to be used by wildlife researchers and conservation organizations for identifying and tracking animal species.',\n",
       "  'Classification': 'Limited or Low Risk',\n",
       "  'Reasoning': 'Limited or Low Risk due to its application in wildlife research without impacting human subjects or processing sensitive personal data.',\n",
       "  'AIActText': ''}]"
      ]
     },
     "execution_count": 40,
     "metadata": {},
     "output_type": "execute_result"
    }
   ],
   "source": [
    "all_uses"
   ]
  },
  {
   "cell_type": "code",
   "execution_count": 15,
   "metadata": {
    "colab": {
     "base_uri": "https://localhost:8080/",
     "height": 17
    },
    "executionInfo": {
     "elapsed": 0,
     "status": "ok",
     "timestamp": 1698246679202,
     "user": {
      "displayName": "Sanja Šćepanović",
      "userId": "16701105420256225026"
     },
     "user_tz": -60
    },
    "id": "XTFR8YERLs12",
    "outputId": "15261f7f-6d0e-4a15-e8dc-907e22358f74"
   },
   "outputs": [],
   "source": [
    "# results_location = \"../../results/\"\n",
    "# FULL_RES = all_uses\n",
    "# ###############################\n",
    "# # save result\n",
    "# with open(results_location + f\"RISK_REPORT.json\", \"w\") as json_file:\n",
    "#     json.dump(FULL_RES, json_file, indent=4)  # 4 spaces of indentation"
   ]
  },
  {
   "cell_type": "code",
   "execution_count": null,
   "metadata": {},
   "outputs": [],
   "source": []
  },
  {
   "cell_type": "markdown",
   "metadata": {},
   "source": [
    "# Batch Processing\n",
    "\n",
    "\n",
    "https://cookbook.openai.com/examples/batch_processing"
   ]
  },
  {
   "cell_type": "code",
   "execution_count": 41,
   "metadata": {},
   "outputs": [],
   "source": [
    "\n",
    "# Creating an array of json tasks\n",
    "\n",
    "tasks = []\n",
    "\n",
    "for useElements in USES:\n",
    "\n",
    "    useI = str(useElements['Use'])\n",
    "    # print (f\" Parsing use {useI}\")\n",
    "\n",
    "    # Variables for message placeholders\n",
    "    domain = useElements['Domain']\n",
    "    purpose = useElements['Purpose']\n",
    "    aiCapability = useElements['Capability']\n",
    "    aiUser = useElements['AI User']\n",
    "    aiSubject = useElements['AI Subject']\n",
    "\n",
    "\n",
    "    # adapt the prompt for useI\n",
    "    messages7s = format_prompt(MESSAGES, domain,purpose,aiCapability,aiUser,aiSubject)\n",
    "\n",
    "    \n",
    "    task = {\n",
    "        \"custom_id\": f\"task-{int(useI)}\",\n",
    "        \"method\": \"POST\",\n",
    "        \"url\": \"/v1/chat/completions\",\n",
    "        \"body\": {\n",
    "            # This is what you would have in your Chat Completions API call\n",
    "            \"model\": \"gpt-4-turbo-2024-04-09\",\n",
    "            \"temperature\": 0,\n",
    "            \"response_format\": { \n",
    "                \"type\": \"json_object\"\n",
    "            },\n",
    "            \"messages\": messages7s,\n",
    "        }\n",
    "    }\n",
    "    \n",
    "    tasks.append(task)\n",
    "\n"
   ]
  },
  {
   "cell_type": "code",
   "execution_count": null,
   "metadata": {},
   "outputs": [],
   "source": []
  },
  {
   "cell_type": "markdown",
   "metadata": {},
   "source": [
    "# Save Batch File"
   ]
  },
  {
   "cell_type": "code",
   "execution_count": 42,
   "metadata": {},
   "outputs": [],
   "source": [
    "# Creating the file\n",
    "\n",
    "file_name = f\"../../processing/batch_EUAIAct_Risks_{uses_of}.jsonl\"\n",
    "\n",
    "with open(file_name, 'w') as file:\n",
    "    for obj in tasks:\n",
    "        file.write(json.dumps(obj) + '\\n')"
   ]
  },
  {
   "cell_type": "markdown",
   "metadata": {},
   "source": [
    "# Uploading the file"
   ]
  },
  {
   "cell_type": "code",
   "execution_count": 43,
   "metadata": {},
   "outputs": [],
   "source": [
    "batch_file = client.files.create(\n",
    "  file=open(file_name, \"rb\"),\n",
    "  purpose=\"batch\"\n",
    ")"
   ]
  },
  {
   "cell_type": "code",
   "execution_count": 44,
   "metadata": {},
   "outputs": [
    {
     "name": "stdout",
     "output_type": "stream",
     "text": [
      "FileObject(id='file-9uLgOZZmrikocaX9MgSbaDMk', bytes=5624427, created_at=1715407854, filename='batch_EUAIAct_Risks_HDI.jsonl', object='file', purpose='batch', status='processed', status_details=None)\n"
     ]
    }
   ],
   "source": [
    "print(batch_file)"
   ]
  },
  {
   "cell_type": "markdown",
   "metadata": {},
   "source": [
    "# Creating the batch job"
   ]
  },
  {
   "cell_type": "code",
   "execution_count": 45,
   "metadata": {},
   "outputs": [],
   "source": [
    "batch_job = client.batches.create(\n",
    "  input_file_id=batch_file.id,\n",
    "  endpoint=\"/v1/chat/completions\",\n",
    "  completion_window=\"24h\"\n",
    ")"
   ]
  },
  {
   "cell_type": "code",
   "execution_count": null,
   "metadata": {},
   "outputs": [],
   "source": []
  },
  {
   "cell_type": "markdown",
   "metadata": {},
   "source": [
    "# Checking batch status"
   ]
  },
  {
   "cell_type": "code",
   "execution_count": 50,
   "metadata": {},
   "outputs": [
    {
     "name": "stdout",
     "output_type": "stream",
     "text": [
      "Batch(id='batch_5vwusvFsbzvVPYbUxdn1WdOh', completion_window='24h', created_at=1715407855, endpoint='/v1/chat/completions', input_file_id='file-9uLgOZZmrikocaX9MgSbaDMk', object='batch', status='completed', cancelled_at=None, cancelling_at=None, completed_at=1715408843, error_file_id=None, errors=None, expired_at=None, expires_at=1715494255, failed_at=None, finalizing_at=1715408836, in_progress_at=1715407855, metadata=None, output_file_id='file-cvGv6ymnCaeoVZJICTvTSeBU', request_counts=BatchRequestCounts(completed=138, failed=0, total=138))\n"
     ]
    }
   ],
   "source": [
    "batch_job = client.batches.retrieve(batch_job.id)\n",
    "print(batch_job)"
   ]
  },
  {
   "cell_type": "code",
   "execution_count": null,
   "metadata": {},
   "outputs": [],
   "source": []
  },
  {
   "cell_type": "code",
   "execution_count": null,
   "metadata": {},
   "outputs": [],
   "source": []
  },
  {
   "cell_type": "markdown",
   "metadata": {},
   "source": [
    "# Retrieving the results"
   ]
  },
  {
   "cell_type": "code",
   "execution_count": 51,
   "metadata": {},
   "outputs": [],
   "source": [
    "result_file_id = batch_job.output_file_id\n",
    "result = client.files.content(result_file_id).content"
   ]
  },
  {
   "cell_type": "code",
   "execution_count": 52,
   "metadata": {},
   "outputs": [],
   "source": [
    "result_file_name = f\"../../results/batch_EUAIActRisks_results_{uses_of}.jsonl\"\n",
    "\n",
    "with open(result_file_name, 'wb') as file:\n",
    "    file.write(result)"
   ]
  },
  {
   "cell_type": "markdown",
   "metadata": {},
   "source": [
    "# Loading data from saved file and transforming into JSON"
   ]
  },
  {
   "cell_type": "code",
   "execution_count": 53,
   "metadata": {},
   "outputs": [],
   "source": [
    "import json\n",
    "import ast"
   ]
  },
  {
   "cell_type": "code",
   "execution_count": 54,
   "metadata": {},
   "outputs": [],
   "source": [
    "result_file_name = f\"../../results/batch_EUAIActRisks_results_{uses_of}.jsonl\"\n",
    "\n",
    "# Loading data from saved file\n",
    "results = []\n",
    "with open(result_file_name, 'r') as file:\n",
    "    for line in file:\n",
    "        # Parsing the JSON string into a dict and appending to the list of results\n",
    "        json_object = json.loads(line.strip())\n",
    "        results.append(json_object)"
   ]
  },
  {
   "cell_type": "code",
   "execution_count": 55,
   "metadata": {},
   "outputs": [
    {
     "name": "stdout",
     "output_type": "stream",
     "text": [
      "{'id': 'batch_req_hnn5IZgFneg0jjzC3Y537qZ4', 'custom_id': 'task-1', 'response': {'status_code': 200, 'request_id': '9cafb7b0c84179113e1b859ac4c11909', 'body': {'id': 'chatcmpl-9NaFYM1xWSPmZMirmU6nkfzlfwlxW', 'object': 'chat.completion', 'created': 1715407916, 'model': 'gpt-4-turbo-2024-04-09', 'choices': [{'index': 0, 'message': {'role': 'assistant', 'content': '{\\n  \"Description\": \"The AI system intended to be used for facial recognition for security purposes by capturing and analyzing facial features of individuals in secured areas.\",\\n  \"Classification\": [\"High Risk\"],\\n  \"Relevant Text from the EU AI Act\": \"Article 6(2) and Annex III, Section 1(a) - Remote biometric identification systems.\",\\n  \"Reasoning\": \"High Risk due to biometric identification in security, which falls under the EU AI Act Article 6(2) and Annex III, Section 1(a).\"\\n}'}, 'logprobs': None, 'finish_reason': 'stop'}], 'usage': {'prompt_tokens': 8353, 'completion_tokens': 113, 'total_tokens': 8466}, 'system_fingerprint': 'fp_e9446dc58f'}}, 'error': None}\n"
     ]
    }
   ],
   "source": [
    "for res in results:\n",
    "    print (res)\n",
    "    break"
   ]
  },
  {
   "cell_type": "code",
   "execution_count": 56,
   "metadata": {},
   "outputs": [],
   "source": [
    "FULL_RES = []\n",
    "cnt_errors = []\n",
    "\n",
    "# Reading only the first results\n",
    "for res in results:\n",
    "    task_id = res['custom_id']\n",
    "    # Getting index from task id\n",
    "    index = task_id.split('-')[-1]\n",
    "    result = res['response']['body']['choices'][0]['message']['content']\n",
    "    try:\n",
    "        res = ast.literal_eval(result)\n",
    "        # print (index)\n",
    "        res[\"Incident ID\"] = int(index)\n",
    "        FULL_RES.append(res)\n",
    "    except Exception as e:\n",
    "        print (e)\n",
    "        print (result)\n",
    "        cnt_errors.append(index)\n",
    "        continue\n",
    "    "
   ]
  },
  {
   "cell_type": "code",
   "execution_count": 57,
   "metadata": {},
   "outputs": [
    {
     "data": {
      "text/plain": [
       "[]"
      ]
     },
     "execution_count": 57,
     "metadata": {},
     "output_type": "execute_result"
    }
   ],
   "source": [
    "cnt_errors"
   ]
  },
  {
   "cell_type": "code",
   "execution_count": null,
   "metadata": {},
   "outputs": [],
   "source": []
  },
  {
   "cell_type": "markdown",
   "metadata": {},
   "source": [
    "# SAVE"
   ]
  },
  {
   "cell_type": "code",
   "execution_count": 58,
   "metadata": {},
   "outputs": [],
   "source": [
    "###############################\n",
    "# save result\n",
    "with open(f\"../../results/FULL_{uses_of}_Risk_REPORT.json\", \"w\") as json_file:\n",
    "    json.dump(FULL_RES, json_file, indent=4)  # 4 spaces of indentation"
   ]
  },
  {
   "cell_type": "code",
   "execution_count": null,
   "metadata": {},
   "outputs": [],
   "source": []
  },
  {
   "cell_type": "markdown",
   "metadata": {
    "id": "RrIes_08Zycx"
   },
   "source": [
    "# THE END"
   ]
  },
  {
   "cell_type": "code",
   "execution_count": null,
   "metadata": {
    "id": "EbCtDgTtMsMU"
   },
   "outputs": [],
   "source": []
  }
 ],
 "metadata": {
  "colab": {
   "provenance": [
    {
     "file_id": "1FxLTOOTOJRqC5nERWDt30wr28fEaSsse",
     "timestamp": 1701879514976
    },
    {
     "file_id": "1CY3A9j0x-nbQ1J3ZiFZMBJSMuwqkOagy",
     "timestamp": 1700559624879
    },
    {
     "file_id": "1ht1-21SSrhejDl2w0P5VqcE_Plb5ZrkH",
     "timestamp": 1698179352822
    }
   ],
   "toc_visible": true
  },
  "kernelspec": {
   "display_name": "Python 3",
   "name": "python3"
  },
  "language_info": {
   "codemirror_mode": {
    "name": "ipython",
    "version": 3
   },
   "file_extension": ".py",
   "mimetype": "text/x-python",
   "name": "python",
   "nbconvert_exporter": "python",
   "pygments_lexer": "ipython3",
   "version": "3.10.13"
  }
 },
 "nbformat": 4,
 "nbformat_minor": 0
}
